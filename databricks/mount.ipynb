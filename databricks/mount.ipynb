{
 "cells": [
  {
   "cell_type": "code",
   "execution_count": 0,
   "metadata": {
    "application/vnd.databricks.v1+cell": {
     "cellMetadata": {
      "byteLimit": 2048000,
      "rowLimit": 10000
     },
     "inputWidgets": {},
     "nuid": "ad929d07-3f90-4969-b5c8-53ceb98d2cf5",
     "showTitle": false,
     "tableResultSettingsMap": {},
     "title": ""
    }
   },
   "outputs": [],
   "source": [
    "configs = {\n",
    "    \"fs.azure.account.auth.type\": \"SAS\",\n",
    "    \"fs.azure.sas.token.provider.type\": \"org.apache.hadoop.fs.azurebfs.sas.FixedSASTokenProvider\",\n",
    "    \"fs.azure.sas.fixed.token\": \"sp=racwdlmeop&st=2025-06-14T07:26:19Z&se=2025-06-14T15:26:19Z&sv=2024-11-04&sr=c&sig=t5etIflMWPXZcSFK5MSciDvAOk%2Bv%2BIncYqA3JpbW8WQ%3D\"\n",
    "}\n",
    "\n",
    "# Mount the ADLS container to Databricks file system (DBFS)\n",
    "dbutils.fs.mount(\n",
    "    source=\"abfss://sjcontainer@storage5845.dfs.core.windows.net/\",\n",
    "    mount_point=\"/mnt/sjcontainer\",\n",
    "    extra_configs=configs\n",
    ")"
   ]
  },
  {
   "cell_type": "code",
   "execution_count": 0,
   "metadata": {
    "application/vnd.databricks.v1+cell": {
     "cellMetadata": {
      "byteLimit": 2048000,
      "rowLimit": 10000
     },
     "inputWidgets": {},
     "nuid": "bb915c32-67af-4d1e-87a4-35b1392eea62",
     "showTitle": false,
     "tableResultSettingsMap": {},
     "title": ""
    }
   },
   "outputs": [],
   "source": [
    "display(dbutils.fs.ls(\"/mnt/sjcontainer/transaction.csv\"))"
   ]
  }
 ],
 "metadata": {
  "application/vnd.databricks.v1+notebook": {
   "computePreferences": null,
   "dashboards": [],
   "environmentMetadata": {
    "base_environment": "",
    "environment_version": "2"
   },
   "inputWidgetPreferences": null,
   "language": "python",
   "notebookMetadata": {
    "pythonIndentUnit": 4
   },
   "notebookName": "mount",
   "widgets": {}
  },
  "language_info": {
   "name": "python"
  }
 },
 "nbformat": 4,
 "nbformat_minor": 0
}
