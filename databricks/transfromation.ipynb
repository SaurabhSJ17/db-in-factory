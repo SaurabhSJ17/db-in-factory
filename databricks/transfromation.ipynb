{
 "cells": [
  {
   "cell_type": "code",
   "execution_count": 0,
   "metadata": {
    "application/vnd.databricks.v1+cell": {
     "cellMetadata": {
      "byteLimit": 2048000,
      "rowLimit": 10000
     },
     "inputWidgets": {},
     "nuid": "76a9f649-dc3a-4b49-8eff-ae2ee97970ad",
     "showTitle": false,
     "tableResultSettingsMap": {},
     "title": ""
    }
   },
   "outputs": [],
   "source": [
    "df2 = spark.read.option(\"header\", True).csv(\"/mnt/sjcontainer/transaction.csv\")\n",
    "\n",
    "df_cleaned = (\n",
    "    df2.dropDuplicates()  # Remove duplicate rows\n",
    "      .na.drop(subset=[\"customer_id\", \"transaction_amount\",\"txn_date\"])  # Drop rows with nulls in important columns\n",
    "      .withColumnRenamed(\"txn_date\", \"transaction_date\")  # Rename for consistency\n",
    ")\n",
    "\n",
    "df_cleaned.write.mode(\"overwrite\").option(\"header\", True).csv(\"/mnt/sjcontainer/transaction_cleaned\")\n"
   ]
  },
  {
   "cell_type": "code",
   "execution_count": 0,
   "metadata": {
    "application/vnd.databricks.v1+cell": {
     "cellMetadata": {},
     "inputWidgets": {},
     "nuid": "4cacb0e3-9e4b-4195-a526-ced8af762b8a",
     "showTitle": false,
     "tableResultSettingsMap": {},
     "title": ""
    }
   },
   "outputs": [],
   "source": []
  }
 ],
 "metadata": {
  "application/vnd.databricks.v1+notebook": {
   "computePreferences": null,
   "dashboards": [],
   "environmentMetadata": {
    "base_environment": "",
    "environment_version": "2"
   },
   "inputWidgetPreferences": null,
   "language": "python",
   "notebookMetadata": {
    "pythonIndentUnit": 4
   },
   "notebookName": "transfromation",
   "widgets": {}
  },
  "language_info": {
   "name": "python"
  }
 },
 "nbformat": 4,
 "nbformat_minor": 0
}
